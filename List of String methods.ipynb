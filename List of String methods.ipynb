{
 "cells": [
  {
   "cell_type": "code",
   "execution_count": 14,
   "id": "ffcd9931-7956-4fa7-bf3b-114b8b3fb749",
   "metadata": {},
   "outputs": [
    {
     "name": "stdout",
     "output_type": "stream",
     "text": [
      "I am learning python\n"
     ]
    }
   ],
   "source": [
    "# List of String methods in python.\n",
    "# 1.capitalize() : It is use to capitalize the first letter of the input string.\n",
    "s1 = \"i am learning python\"\n",
    "print(s1.capitalize())"
   ]
  },
  {
   "cell_type": "code",
   "execution_count": 15,
   "id": "ac92729a-7221-44d0-9636-243ee7abbb91",
   "metadata": {},
   "outputs": [
    {
     "name": "stdout",
     "output_type": "stream",
     "text": [
      "am learning python\n"
     ]
    }
   ],
   "source": [
    "# 2.casefold() : It is used to convert the string to lowercase. But it can also do some distinct conversions. \n",
    "s2 = \"AM LEARNING PYTHON\"\n",
    "print(s2.casefold())"
   ]
  },
  {
   "cell_type": "code",
   "execution_count": 16,
   "id": "805f6697-841b-409b-8890-72d342b2c510",
   "metadata": {},
   "outputs": [
    {
     "name": "stdout",
     "output_type": "stream",
     "text": [
      "----------------------Rohan-----------------------\n"
     ]
    }
   ],
   "source": [
    "# 3. center() : it is used to center align an input string within a specified width.\n",
    "#    it takes 2 arguments on is \" width\" and another one is optional wihich specifies filled characters in given width.\n",
    "s3 = \"Rohan\"\n",
    "print(s3.center(50,\"-\"))"
   ]
  },
  {
   "cell_type": "code",
   "execution_count": 11,
   "id": "16d34893-5d54-4ac6-b94a-07bd90136fef",
   "metadata": {},
   "outputs": [
    {
     "name": "stdout",
     "output_type": "stream",
     "text": [
      "2\n"
     ]
    }
   ],
   "source": [
    "# 4.count() : It is use to find a no. of occurence of particular substring in a string.\n",
    "# it takes 3 arguments from which 2 are optional.\n",
    "# optionals are for from where to start counting and where to end it.\n",
    "s4 = \"Am learning python\"\n",
    "print(s4.count(\"n\",0,10))"
   ]
  },
  {
   "cell_type": "code",
   "execution_count": 12,
   "id": "d876187b-d874-45b0-b096-4711b2a62eef",
   "metadata": {
    "tags": []
   },
   "outputs": [
    {
     "name": "stdout",
     "output_type": "stream",
     "text": [
      "b'rohan'\n"
     ]
    }
   ],
   "source": [
    "# 5.encode() : this method is use to encode a input string to bytes. it takes two arguments one is which encoding technique shave to use and second for error handeling.\n",
    "s5 = \"rohan\"\n",
    "print(s5.encode())"
   ]
  },
  {
   "cell_type": "code",
   "execution_count": 14,
   "id": "7e99d01b-473c-4a16-9e0a-2cc4d12b0182",
   "metadata": {},
   "outputs": [
    {
     "name": "stdout",
     "output_type": "stream",
     "text": [
      "True\n"
     ]
    }
   ],
   "source": [
    "# 6. endswith() : returns true if input string ends with given suffix otherwise return false. it takes three arguments from which 2 are optionals \n",
    "# options two are start and end.\n",
    "s6 = \"vishal is my friend\"\n",
    "print(s6.endswith(\"friend\"))"
   ]
  },
  {
   "cell_type": "code",
   "execution_count": 16,
   "id": "c7811196-ae08-4f36-98f0-18bf81d2b4e9",
   "metadata": {},
   "outputs": [
    {
     "name": "stdout",
     "output_type": "stream",
     "text": [
      "Hi\tthere\n",
      "Hi  there\n"
     ]
    }
   ],
   "source": [
    "# 7. expandtabs() method is used to expand tab characters (\\t) in a string into spaces. we can also customise tab size by using an optional argument.\n",
    "s7 = \"Hi\\tthere\"\n",
    "print(s7)\n",
    "print(s7.expandtabs(4))"
   ]
  },
  {
   "cell_type": "code",
   "execution_count": 17,
   "id": "8ed34545-16dc-4296-acf7-d612b9947fc4",
   "metadata": {},
   "outputs": [
    {
     "name": "stdout",
     "output_type": "stream",
     "text": [
      "16\n"
     ]
    }
   ],
   "source": [
    "#8. find() is used to find a substring , its gives its index no. where it located.\n",
    "s8 = \"Hey am learning python\"\n",
    "print(s8.find(\"python\"))"
   ]
  },
  {
   "cell_type": "code",
   "execution_count": 21,
   "id": "d8fdfa16-65e0-4c7d-b4c6-7852a083e23f",
   "metadata": {},
   "outputs": [
    {
     "name": "stdout",
     "output_type": "stream",
     "text": [
      " My name is Rohan and am learning python.\n"
     ]
    }
   ],
   "source": [
    "#9. format() method is used for format ht string.\n",
    "s9 =\" My name is {} and am learning {}.\"\n",
    "print(s9.format(\"Rohan\",\"python\"))"
   ]
  },
  {
   "cell_type": "code",
   "execution_count": 22,
   "id": "97312141-e00c-45e6-adba-f6897716f5a4",
   "metadata": {},
   "outputs": [
    {
     "name": "stdout",
     "output_type": "stream",
     "text": [
      "9\n"
     ]
    }
   ],
   "source": [
    "#10 index() method is used to find the index of a substring within a string. this  methods search for the first occurance of the sub string and returns its index.\n",
    "s10 = \"Hey, how are you\"\n",
    "print(s10.index(\"are\"))"
   ]
  },
  {
   "cell_type": "code",
   "execution_count": 23,
   "id": "20d2be2a-fb3d-4252-82db-000b2949f98d",
   "metadata": {},
   "outputs": [
    {
     "name": "stdout",
     "output_type": "stream",
     "text": [
      "True\n"
     ]
    }
   ],
   "source": [
    "#11 isalnum() is used to find weather all the characters in the string is alphabhet and numbers.\n",
    "s11 = \"rmx3345\"\n",
    "print(s11.isalnum())"
   ]
  },
  {
   "cell_type": "code",
   "execution_count": 24,
   "id": "017a9815-74ae-4267-8fe9-d7ea415a679d",
   "metadata": {},
   "outputs": [
    {
     "name": "stdout",
     "output_type": "stream",
     "text": [
      "True\n"
     ]
    }
   ],
   "source": [
    "#12 isalpha is used to chech weather all the characters in the string are albhabet or not.\n",
    "s12 = \"Rohan\"\n",
    "print(s12.isalpha())"
   ]
  },
  {
   "cell_type": "code",
   "execution_count": 25,
   "id": "b50316df-f631-47c1-be25-e688a4b15be2",
   "metadata": {},
   "outputs": [
    {
     "name": "stdout",
     "output_type": "stream",
     "text": [
      "True\n"
     ]
    }
   ],
   "source": [
    "#13 isdecimal is used to define weather a input string is decimal or not , returns true or false.\n",
    "s13 = \"120\"\n",
    "print(s13.isdigit())"
   ]
  },
  {
   "cell_type": "code",
   "execution_count": 27,
   "id": "73433692-867c-4c19-b426-e0d5ffb7fe00",
   "metadata": {},
   "outputs": [
    {
     "name": "stdout",
     "output_type": "stream",
     "text": [
      "HELLO\n"
     ]
    }
   ],
   "source": [
    "#14 upper() converts all the character is a string to uppercase.\n",
    "s14 = \"hello\"\n",
    "print(s14.upper())"
   ]
  },
  {
   "cell_type": "code",
   "execution_count": 30,
   "id": "04ae6fdc-8726-470d-8d87-c94b7752cb7d",
   "metadata": {},
   "outputs": [
    {
     "name": "stdout",
     "output_type": "stream",
     "text": [
      "amit\n"
     ]
    }
   ],
   "source": [
    "#15 lower() converts all the charactegr s to lowercase.\n",
    "s15 = \"AMIT\"\n",
    "print(s15.lower())"
   ]
  },
  {
   "cell_type": "code",
   "execution_count": 31,
   "id": "22e521a3-b344-4da0-8c55-f04c95cd075f",
   "metadata": {},
   "outputs": [
    {
     "name": "stdout",
     "output_type": "stream",
     "text": [
      "Hey Am Here\n"
     ]
    }
   ],
   "source": [
    "#16 title(): Converts the first character of each word in the string to uppercase.\n",
    "s16 = \"hey am here\"\n",
    "print(s16.title())"
   ]
  },
  {
   "cell_type": "code",
   "execution_count": 32,
   "id": "2fb7ffba-38bd-4a28-9ee2-2b601c4025b6",
   "metadata": {},
   "outputs": [
    {
     "name": "stdout",
     "output_type": "stream",
     "text": [
      "hEY cHAMP\n"
     ]
    }
   ],
   "source": [
    "#17 swapcase() : it is use to swap the case as lower case becomes uppercase and vice versa.\n",
    "s17 = \"Hey Champ\"\n",
    "print(s17.swapcase())"
   ]
  },
  {
   "cell_type": "code",
   "execution_count": 1,
   "id": "0c2c498a-c673-4600-b398-8a7088b0349b",
   "metadata": {},
   "outputs": [
    {
     "name": "stdout",
     "output_type": "stream",
     "text": [
      "Hello Pam!\n"
     ]
    }
   ],
   "source": [
    "#19 The translate() method returns a string where some specified characters are replaced with the character described in a dictionary, or in a mapping table.\n",
    "# Use the maketrans() method to create a mapping table.\n",
    "# If a character is not specified in the dictionary/table, the character will not be replaced.\n",
    "mydict = {83 : 80}\n",
    "txt = \"Hello Sam!\"\n",
    "print(txt.translate(mydict))\n"
   ]
  },
  {
   "cell_type": "code",
   "execution_count": 2,
   "id": "e0f0d8c9-7d8c-47aa-bad3-cff51ba7d484",
   "metadata": {},
   "outputs": [
    {
     "name": "stdout",
     "output_type": "stream",
     "text": [
      "0000000050\n"
     ]
    }
   ],
   "source": [
    "#20 The zfill() method adds zeros (0) at the beginning of the string, until it reaches the specified length.\n",
    "# If the value of the len parameter is less than the length of the string, no filling is done.\n",
    "txt = \"50\"\n",
    "x = txt.zfill(10)\n",
    "print(x)"
   ]
  },
  {
   "cell_type": "code",
   "execution_count": 7,
   "id": "9c624e7b-0df5-498f-a8b9-cd0408838647",
   "metadata": {},
   "outputs": [
    {
     "name": "stdout",
     "output_type": "stream",
     "text": [
      "banana\n"
     ]
    }
   ],
   "source": [
    "#21 The strip() method removes any leading, and trailing whitespaces.\n",
    "# You can specify which character(s) to remove, if not, any whitespaces will be removed.\n",
    "txt = \",,,,,rrttgg..... banana....rrr\"\n",
    "x = txt.strip(\",. grt\")\n",
    "print(x)"
   ]
  },
  {
   "cell_type": "code",
   "execution_count": 9,
   "id": "9a42166c-7a19-4e64-aecc-b83ee61da5c2",
   "metadata": {},
   "outputs": [
    {
     "name": "stdout",
     "output_type": "stream",
     "text": [
      "True\n",
      "True\n"
     ]
    }
   ],
   "source": [
    "#22 The startswith() method returns True if the string starts with the specified value, otherwise False.\n",
    "txt = \"Hello, welcome to my world.\"\n",
    "x = txt.startswith(\"Hello\")\n",
    "print(x)\n",
    "t = \"Hello, welcome to my world.\"\n",
    "y = t.startswith(\"wel\", 7, 20)\n",
    "print(y)"
   ]
  },
  {
   "cell_type": "code",
   "execution_count": 10,
   "id": "8563a785-4927-4829-a3ba-8d6289d35038",
   "metadata": {},
   "outputs": [
    {
     "name": "stdout",
     "output_type": "stream",
     "text": [
      "['Thank you for the music', 'Welcome to the jungle']\n"
     ]
    }
   ],
   "source": [
    "#23 The splitlines() method splits a string into a list. The splitting is done at line breaks.\n",
    "r = \"Thank you for the music\\nWelcome to the jungle\"\n",
    "z = r.splitlines()\n",
    "print(z)"
   ]
  },
  {
   "cell_type": "code",
   "execution_count": 11,
   "id": "6b6e5afb-3bc0-44c5-9685-aa0f0c7fe702",
   "metadata": {},
   "outputs": [
    {
     "name": "stdout",
     "output_type": "stream",
     "text": [
      "['welcome', 'to', 'the', 'jungle']\n"
     ]
    }
   ],
   "source": [
    "#24 The split() method splits a string into a list.\n",
    "# You can specify the separator, default separator is any whitespace.\n",
    "txt = \"welcome to the jungle\"\n",
    "x = txt.split()\n",
    "print(x)"
   ]
  },
  {
   "cell_type": "code",
   "execution_count": 12,
   "id": "76cd658b-968c-47fb-8d16-9a4ed25ba81b",
   "metadata": {},
   "outputs": [
    {
     "name": "stdout",
     "output_type": "stream",
     "text": [
      "banana\n"
     ]
    }
   ],
   "source": [
    "#25 The rstrip() method removes any trailing characters (characters at the end a string), space is the default trailing character to remove.\n",
    "txt = \"banana,,,,,ssqqqww.....\"\n",
    "x = txt.rstrip(\",.qsw\")\n",
    "print(x)"
   ]
  },
  {
   "cell_type": "code",
   "execution_count": 13,
   "id": "7cc7cefa-bf95-450d-b24e-a7144681773c",
   "metadata": {},
   "outputs": [
    {
     "name": "stdout",
     "output_type": "stream",
     "text": [
      "['apple', 'banana', 'cherry']\n"
     ]
    }
   ],
   "source": [
    "#26 The rsplit() method splits a string into a list, starting from the right.\n",
    "# If no \"max\" is specified, this method will return the same as the split() method.\n",
    "txt = \"apple, banana, cherry\"\n",
    "x = txt.rsplit(\", \")\n",
    "print(x)"
   ]
  },
  {
   "cell_type": "code",
   "execution_count": 14,
   "id": "8707471d-671b-4095-827f-ef401b50b2cc",
   "metadata": {},
   "outputs": [
    {
     "name": "stdout",
     "output_type": "stream",
     "text": [
      "('I could eat bananas all day, ', 'bananas', ' are my favorite fruit')\n"
     ]
    }
   ],
   "source": [
    "#27 The rpartition() method searches for the last occurrence of a specified string, and splits the string into a tuple containing three elements.\n",
    "# Search for the last occurrence of the word \"bananas\", and return a tuple with three elements:\n",
    "# 1 - everything before the \"match\"\n",
    "# 2 - the \"match\"\n",
    "# 3 - everything after the \"match\"\n",
    "txt = \"I could eat bananas all day, bananas are my favorite fruit\"\n",
    "x = txt.rpartition(\"bananas\")\n",
    "print(x)"
   ]
  },
  {
   "cell_type": "code",
   "execution_count": 15,
   "id": "80465a25-afe6-4c4b-ac5b-bd2ec01752f0",
   "metadata": {},
   "outputs": [
    {
     "name": "stdout",
     "output_type": "stream",
     "text": [
      "OOOOOOOOOOOOOObanana\n"
     ]
    }
   ],
   "source": [
    "#28 The rjust() method will right align the string, using a specified character (space is default) as the fill character.\n",
    "txt = \"banana\"\n",
    "x = txt.rjust(20, \"O\")\n",
    "print(x)"
   ]
  },
  {
   "cell_type": "code",
   "execution_count": 16,
   "id": "fae2e7f9-9333-404c-aa35-dbcacb7f0bac",
   "metadata": {},
   "outputs": [
    {
     "name": "stdout",
     "output_type": "stream",
     "text": [
      "13\n"
     ]
    }
   ],
   "source": [
    "#29 The rindex() method finds the last occurrence of the specified value.\n",
    "# The rindex() method raises an exception if the value is not found.\n",
    "txt = \"Hello, welcome to my world.\"\n",
    "x = txt.rindex(\"e\")\n",
    "print(x)"
   ]
  },
  {
   "cell_type": "code",
   "execution_count": 17,
   "id": "2102e011-c695-41ea-9cb6-c14d2dea66e0",
   "metadata": {},
   "outputs": [
    {
     "name": "stdout",
     "output_type": "stream",
     "text": [
      "13\n"
     ]
    }
   ],
   "source": [
    "#30 The rfind() method finds the last occurrence of the specified value.\n",
    "# The rfind() method returns -1 if the value is not found\n",
    "txt = \"Hello, welcome to my world.\"\n",
    "x = txt.rfind(\"e\")\n",
    "print(x)"
   ]
  },
  {
   "cell_type": "code",
   "execution_count": 18,
   "id": "babf146d-f067-4493-b67c-076a4a7cbdb6",
   "metadata": {},
   "outputs": [
    {
     "name": "stdout",
     "output_type": "stream",
     "text": [
      "three three was a race horse, two two was three too.\n"
     ]
    }
   ],
   "source": [
    "#31 The replace() method replaces a specified phrase with another specified phrase.\n",
    "txt = \"one one was a race horse, two two was one too.\"\n",
    "x = txt.replace(\"one\", \"three\")\n",
    "print(x)"
   ]
  },
  {
   "cell_type": "code",
   "execution_count": 19,
   "id": "bc498841-2678-4c4c-a419-fc8c9f0ee062",
   "metadata": {},
   "outputs": [
    {
     "name": "stdout",
     "output_type": "stream",
     "text": [
      "('I could eat ', 'bananas', ' all day')\n"
     ]
    }
   ],
   "source": [
    "# 32 The partition() method searches for a specified string, and splits the string into a tuple containing three elements.\n",
    "# The first element contains the part before the specified string.\n",
    "# The second element contains the specified string.\n",
    "# The third element contains the part after the string.\n",
    "txt = \"I could eat bananas all day\"\n",
    "x = txt.partition(\"bananas\")\n",
    "print(x)"
   ]
  },
  {
   "cell_type": "code",
   "execution_count": 20,
   "id": "1339ec00-f2fc-4ffc-8d49-29bd463c89e1",
   "metadata": {},
   "outputs": [
    {
     "name": "stdout",
     "output_type": "stream",
     "text": [
      "banana\n"
     ]
    }
   ],
   "source": [
    "#33 The lstrip() method removes any leading characters (space is the default leading character to remove)\n",
    "txt = \",,,,,ssaaww.....banana\"\n",
    "x = txt.lstrip(\",.asw\")\n",
    "print(x)"
   ]
  },
  {
   "cell_type": "code",
   "execution_count": 21,
   "id": "d420bf75-e52d-4feb-a097-5b92defa5ff0",
   "metadata": {},
   "outputs": [
    {
     "name": "stdout",
     "output_type": "stream",
     "text": [
      "bananaOOOOOOOOOOOOOO\n"
     ]
    }
   ],
   "source": [
    "#34 The ljust() method will left align the string, using a specified character (space is default) as the fill character.\n",
    "txt = \"banana\"\n",
    "x = txt.ljust(20, \"O\")\n",
    "print(x)"
   ]
  },
  {
   "cell_type": "code",
   "execution_count": 22,
   "id": "541ad7b3-549b-4691-9b77-e4d828e36fb8",
   "metadata": {},
   "outputs": [
    {
     "name": "stdout",
     "output_type": "stream",
     "text": [
      "John#Peter#Vicky\n"
     ]
    }
   ],
   "source": [
    "#35 The join() method takes all items in an iterable and joins them into one string.\n",
    "# A string must be specified as the separator.\n",
    "myTuple = (\"John\", \"Peter\", \"Vicky\")\n",
    "x = \"#\".join(myTuple)\n",
    "print(x)"
   ]
  },
  {
   "cell_type": "code",
   "execution_count": 23,
   "id": "d65aa93d-fb2c-4d98-a781-1b4fb582103d",
   "metadata": {},
   "outputs": [
    {
     "name": "stdout",
     "output_type": "stream",
     "text": [
      "False\n",
      "False\n",
      "True\n"
     ]
    }
   ],
   "source": [
    "#36 The isupper() method returns True if all the characters are in upper case, otherwise False.\n",
    "a = \"Hello World!\"\n",
    "b = \"hello 123\"\n",
    "c = \"MY NAME IS PETER\"\n",
    "print(a.isupper())\n",
    "print(b.isupper())\n",
    "print(c.isupper())"
   ]
  },
  {
   "cell_type": "code",
   "execution_count": 24,
   "id": "53a76608-3e34-45c7-9dab-30ee8b514823",
   "metadata": {},
   "outputs": [
    {
     "name": "stdout",
     "output_type": "stream",
     "text": [
      "False\n",
      "True\n",
      "True\n",
      "True\n"
     ]
    }
   ],
   "source": [
    "#37 The istitle() method returns True if all words in a text start with a upper case letter, AND the rest of the word are lower case letters, otherwise False.\n",
    "a = \"HELLO, AND WELCOME TO MY WORLD\"\n",
    "b = \"Hello\"\n",
    "c = \"22 Names\"\n",
    "d = \"This Is %'!?\"\n",
    "print(a.istitle())\n",
    "print(b.istitle())\n",
    "print(c.istitle())\n",
    "print(d.istitle())"
   ]
  },
  {
   "cell_type": "code",
   "execution_count": 25,
   "id": "9dd1bcba-5ecb-4feb-bfaa-b2553b35ce34",
   "metadata": {},
   "outputs": [
    {
     "name": "stdout",
     "output_type": "stream",
     "text": [
      "False\n"
     ]
    }
   ],
   "source": [
    "#38 The isspace() method returns True if all the characters in a string are whitespaces, otherwise False.\n",
    "txt = \"   s   \"\n",
    "x = txt.isspace()\n",
    "print(x)"
   ]
  },
  {
   "cell_type": "code",
   "execution_count": 26,
   "id": "cc184805-9065-4c96-a737-34bf0a9141ac",
   "metadata": {},
   "outputs": [
    {
     "name": "stdout",
     "output_type": "stream",
     "text": [
      "False\n"
     ]
    }
   ],
   "source": [
    "#39 The isprintable() method returns True if all the characters are printable, otherwise False.\n",
    "txt = \"Hello!\\nAre you #1?\"\n",
    "x = txt.isprintable()\n",
    "print(x)"
   ]
  },
  {
   "cell_type": "code",
   "execution_count": 27,
   "id": "e1a42fb0-7178-401b-ac92-e86f5ba5318f",
   "metadata": {},
   "outputs": [
    {
     "name": "stdout",
     "output_type": "stream",
     "text": [
      "True\n"
     ]
    }
   ],
   "source": [
    "#40 he isnumeric() method returns True if all the characters are numeric (0-9), otherwise False.\n",
    "# Exponents, like ² and ¾ are also considered to be numeric values.\n",
    "txt = \"565543\"\n",
    "x = txt.isnumeric()\n",
    "print(x)"
   ]
  },
  {
   "cell_type": "code",
   "execution_count": 28,
   "id": "3422474c-2077-4740-9094-e56d1abf67d6",
   "metadata": {},
   "outputs": [
    {
     "name": "stdout",
     "output_type": "stream",
     "text": [
      "False\n",
      "True\n",
      "False\n"
     ]
    }
   ],
   "source": [
    "#41 The islower() method returns True if all the characters are in lower case, otherwise False.\n",
    "a = \"Hello world!\"\n",
    "b = \"hello 123\"\n",
    "c = \"mynameisPeter\"\n",
    "print(a.islower())\n",
    "print(b.islower())\n",
    "print(c.islower())"
   ]
  },
  {
   "cell_type": "code",
   "execution_count": 29,
   "id": "ec5f87c7-263b-4181-b498-51a9cbc7aa91",
   "metadata": {},
   "outputs": [
    {
     "name": "stdout",
     "output_type": "stream",
     "text": [
      "True\n",
      "True\n",
      "False\n",
      "False\n"
     ]
    }
   ],
   "source": [
    "#42 The isidentifier() method returns True if the string is a valid identifier, otherwise False.\n",
    "a = \"MyFolder\"\n",
    "b = \"Demo002\"\n",
    "c = \"2bring\"\n",
    "d = \"my demo\"\n",
    "print(a.isidentifier())\n",
    "print(b.isidentifier())\n",
    "print(c.isidentifier())\n",
    "print(d.isidentifier())"
   ]
  },
  {
   "cell_type": "code",
   "execution_count": 30,
   "id": "77329897-9440-4075-9feb-cb528e9c186c",
   "metadata": {},
   "outputs": [
    {
     "name": "stdout",
     "output_type": "stream",
     "text": [
      "True\n"
     ]
    }
   ],
   "source": [
    "#43 The isascii() method returns True if all the characters are ascii characters  (a-z).\n",
    "txt = \"Company123\"\n",
    "x = txt.isascii()\n",
    "print(x)"
   ]
  },
  {
   "cell_type": "code",
   "execution_count": null,
   "id": "7fd2143f-f309-479f-a13d-fd8fb65ffbab",
   "metadata": {},
   "outputs": [],
   "source": []
  }
 ],
 "metadata": {
  "kernelspec": {
   "display_name": "Python 3 (ipykernel)",
   "language": "python",
   "name": "python3"
  },
  "language_info": {
   "codemirror_mode": {
    "name": "ipython",
    "version": 3
   },
   "file_extension": ".py",
   "mimetype": "text/x-python",
   "name": "python",
   "nbconvert_exporter": "python",
   "pygments_lexer": "ipython3",
   "version": "3.10.8"
  }
 },
 "nbformat": 4,
 "nbformat_minor": 5
}
