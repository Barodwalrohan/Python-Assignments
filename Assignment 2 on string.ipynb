{
 "cells": [
  {
   "cell_type": "code",
   "execution_count": 1,
   "id": "ca58bc4f-d04a-46a6-994e-70d670d95e36",
   "metadata": {},
   "outputs": [
    {
     "name": "stdout",
     "output_type": "stream",
     "text": [
      "Hello World\n"
     ]
    }
   ],
   "source": [
    "# Qusestion 1 : How do you concatenate two strings in Python?\n",
    "# Answer  : In Python, we can concatenate (combine) two strings using the + operator.\n",
    "s1 = \"Hello\"\n",
    "s2 = \"World\"\n",
    "result = s1 + \" \" + s2\n",
    "print(result)"
   ]
  },
  {
   "cell_type": "code",
   "execution_count": 4,
   "id": "1c1a431b-d994-4e1c-b38f-a07f352808f5",
   "metadata": {},
   "outputs": [
    {
     "name": "stdout",
     "output_type": "stream",
     "text": [
      "Hello World\n",
      "Hello World\n"
     ]
    }
   ],
   "source": [
    "#Question 2 : What is the difference between the + operator and the join() method for\n",
    "#             concatenating strings?\n",
    "#Answer :  \"+\" operator in string concatination only takes string as a input and join() takes list of string as a input.\n",
    "#using \"+\" operator \n",
    "s1 = \"Hello\"\n",
    "s2 = \"World\"\n",
    "result = s1 + \" \" + s2\n",
    "print(result)\n",
    "\n",
    "s3 = [\"Hello\", \"World\"]\n",
    "result = \" \".join(s3)\n",
    "print(result)"
   ]
  },
  {
   "cell_type": "code",
   "execution_count": 10,
   "id": "18730a53-f058-4cdc-b1cf-d78ef59ee440",
   "metadata": {},
   "outputs": [
    {
     "name": "stdout",
     "output_type": "stream",
     "text": [
      "H  o\n"
     ]
    }
   ],
   "source": [
    "#Question 3 : How do you access individual characters in a string?\n",
    "#Answer : In Python, you can access individual characters in a string using indexing.\n",
    "# The index of the first character in a string is 0, the second character is 1, and so on. We can also use negative \n",
    "# indexing to access characters from the end of the string, with the index of the last character being -1.\n",
    "my_string = \"Hello, World!\"\n",
    "f = my_string[0]    \n",
    "f1 = my_string[4] \n",
    "print(f,\"\",f1)"
   ]
  },
  {
   "cell_type": "code",
   "execution_count": 12,
   "id": "489c820b-e65e-4e02-972b-e7c0efb33f33",
   "metadata": {},
   "outputs": [
    {
     "data": {
      "text/plain": [
       "5"
      ]
     },
     "execution_count": 12,
     "metadata": {},
     "output_type": "execute_result"
    }
   ],
   "source": [
    "# Question 4 : What method is used to find the length of a string in Python?\n",
    "# Answer : len() methon is used to find the length of a string in python.\n",
    "s1 = \"Hello\"\n",
    "len(s1)"
   ]
  },
  {
   "cell_type": "code",
   "execution_count": 13,
   "id": "e78f47c1-1786-4e51-aafa-640594728ae1",
   "metadata": {},
   "outputs": [
    {
     "name": "stdout",
     "output_type": "stream",
     "text": [
      "MOHIT\n"
     ]
    }
   ],
   "source": [
    "#Question 5 : How can you convert a string to uppercase in Python?\n",
    "#Answer : We use upper() module for convert a string to uppercase.\n",
    "s4 = \"mohit\"\n",
    "print(s4.upper())"
   ]
  },
  {
   "cell_type": "code",
   "execution_count": 14,
   "id": "4805bb9f-9763-49fd-8de5-51ca7ae72edd",
   "metadata": {},
   "outputs": [
    {
     "name": "stdout",
     "output_type": "stream",
     "text": [
      "vishal\n"
     ]
    }
   ],
   "source": [
    "#Question 6 : How can you convert a string to lowercase in Python?\n",
    "#Answer : We can convert a string to llower case by using lower() funtion\n",
    "s5 = \"VISHAL\"\n",
    "print(s5.lower())"
   ]
  },
  {
   "cell_type": "code",
   "execution_count": 15,
   "id": "3baad1e1-a7cf-4fd2-8f9d-3eb7c76dae2c",
   "metadata": {},
   "outputs": [
    {
     "name": "stdout",
     "output_type": "stream",
     "text": [
      "hi rohan, how are you?\n"
     ]
    }
   ],
   "source": [
    "#Question 7 : What method is used to replace substrings within a string?\n",
    "# Answer : In Python, you can replace substrings within a string using the replace() method.\n",
    "a = \"hi vishal, how are you?\"\n",
    "print(a.replace(\"vishal\",\"rohan\"))"
   ]
  },
  {
   "cell_type": "code",
   "execution_count": 46,
   "id": "0209a97d-fc73-4d52-b23a-c0fa631e8ba0",
   "metadata": {},
   "outputs": [
    {
     "name": "stdout",
     "output_type": "stream",
     "text": [
      "['Hello,', 'World!', 'This', 'is', 'a', 'test.']\n"
     ]
    }
   ],
   "source": [
    "# Question 8 : How can you split a string into a list of substrings based on a delimiter? \n",
    "# Answer : By the use of split() function and put delimiter as argument.\n",
    "my_string = \"Hello, World! This is a test.\"\n",
    "words = my_string.split(\" \")\n",
    "print(words)"
   ]
  },
  {
   "cell_type": "code",
   "execution_count": 17,
   "id": "655489e0-d745-40bc-84c2-e4561a55b608",
   "metadata": {},
   "outputs": [
    {
     "name": "stdout",
     "output_type": "stream",
     "text": [
      "True\n"
     ]
    }
   ],
   "source": [
    "# Question 9 : How do you check if a string starts with a particular substring?\n",
    "# Answer : In Python, we  can check if a string starts with a particular substring using the startswith() method.\n",
    "#          This method returns True if the string starts with the specified prefix (substring), otherwise it returns False.\n",
    "my_string = \"Hello, World!\"\n",
    "result = my_string.startswith(\"Hello\")\n",
    "print(result)"
   ]
  },
  {
   "cell_type": "code",
   "execution_count": 18,
   "id": "585819d8-762c-4d9d-806b-553255fb3bc2",
   "metadata": {},
   "outputs": [
    {
     "name": "stdout",
     "output_type": "stream",
     "text": [
      "False\n"
     ]
    }
   ],
   "source": [
    "# Question 10 : How do you check if a string ends with a particular substring?\n",
    "# Answer : In Python, you can check if a string ends with a particular substring using the endswith() method.\n",
    "#          This method returns True if the string ends with the specified suffix (substring), otherwise it returns False.\n",
    "my_string = \"Hello, World!\"\n",
    "result = my_string.endswith(\"World\")\n",
    "print(result)"
   ]
  },
  {
   "cell_type": "code",
   "execution_count": 21,
   "id": "16bbf896-c80e-4b87-830e-fefb638da527",
   "metadata": {},
   "outputs": [
    {
     "name": "stdout",
     "output_type": "stream",
     "text": [
      "banana\n"
     ]
    }
   ],
   "source": [
    "# Question 11 : How can you remove leading and trailing whitespace from a string?\n",
    "# Answer : The strip() method removes any leading, and trailing whitespaces.\n",
    "txt = \"              banana                  \"\n",
    "x = txt.strip()\n",
    "print(x)"
   ]
  },
  {
   "cell_type": "code",
   "execution_count": 30,
   "id": "0c7fa648-3a44-46e1-a66b-f7786ecc90ac",
   "metadata": {},
   "outputs": [
    {
     "name": "stdout",
     "output_type": "stream",
     "text": [
      "4   -1\n"
     ]
    }
   ],
   "source": [
    "#Question 12 : What method is used to find the index of the first occurrence of a substring within a string?\n",
    "# Answer : In Python, we can find the index of the first occurrence of a substring within a string using the find() method.\n",
    "#          This method returns the index of the first occurrence of the substring, or -1 if the substring is not found.\n",
    "my_string = \"hello world!\"\n",
    "i1 = my_string.find(\"o\")\n",
    "i2 = my_string.find(\"n\")\n",
    "print(i1,\" \" ,i2)\n"
   ]
  },
  {
   "cell_type": "code",
   "execution_count": 33,
   "id": "5fe2b155-a97d-4ba2-98d4-f0b83b8a3122",
   "metadata": {},
   "outputs": [
    {
     "name": "stdout",
     "output_type": "stream",
     "text": [
      "4\n"
     ]
    }
   ],
   "source": [
    "# Question 13 : How can you count the number of occurrences of a substring within a string?\n",
    "# Answer : count() is used to find the number of occurances of a particular substring within a string.\n",
    "s = \"hello everyone, myself rohan and am learnig python\"\n",
    "print(s.count(\"o\"))"
   ]
  },
  {
   "cell_type": "code",
   "execution_count": 35,
   "id": "c46aae2e-6cf3-4136-a82a-0b290b09468e",
   "metadata": {},
   "outputs": [
    {
     "name": "stdout",
     "output_type": "stream",
     "text": [
      "True   False\n"
     ]
    }
   ],
   "source": [
    "# Question 14 : How do you check if a string contains only alphabetic characters?\n",
    "# Answer : We can use isalpha() to find weather a given string only contains alphabetic characters.\n",
    "my_string = \"Python\"\n",
    "my_string1 = \"123py\"\n",
    "print(my_string.isalpha() ,\" \" , my_string1.isalpha())"
   ]
  },
  {
   "cell_type": "code",
   "execution_count": 36,
   "id": "84d9a311-caf2-49f1-93bc-5452823b2f25",
   "metadata": {},
   "outputs": [
    {
     "name": "stdout",
     "output_type": "stream",
     "text": [
      "True   False\n"
     ]
    }
   ],
   "source": [
    "# Question 15 : How do you check if a string contains only numeric characters?\n",
    "# Answer : we have to use isnumric() to find weather a particular string contains only numeric characters.\n",
    "s5 = \"23425457567\"\n",
    "s6 = \"nufirht485\"\n",
    "print(s5.isnumeric() , \" \" , s6.isnumeric())"
   ]
  },
  {
   "cell_type": "code",
   "execution_count": 40,
   "id": "3ba10f4f-ef68-4bb0-a95c-b914027848e0",
   "metadata": {},
   "outputs": [
    {
     "name": "stdout",
     "output_type": "stream",
     "text": [
      "olleh \n",
      " radar\n",
      "we can clearly see that b is same as after its reverse then b is palindrome\n"
     ]
    }
   ],
   "source": [
    "# Question 16 : How can you check if a string is a palindrome?\n",
    "# answer : To check if a string is a palindrome in Python, we can compare the string with its reverse.\n",
    "#          If the string is the same when read forwards and backwards, then it is a palindrome.\n",
    "a = \"hello\"\n",
    "b = \"radar\"\n",
    "c = a[-1::-1]\n",
    "d = b[-1::-1]\n",
    "print(c,\"\\n\",d)\n",
    "print(\"we can clearly see that 'b' is same as after its reverse then 'b' is palindrome\")"
   ]
  },
  {
   "cell_type": "code",
   "execution_count": 42,
   "id": "b4758667-b30e-4a8b-aa15-4f9bdb2bb70d",
   "metadata": {},
   "outputs": [
    {
     "name": "stdout",
     "output_type": "stream",
     "text": [
      "reverse of string Hello is olleH\n"
     ]
    }
   ],
   "source": [
    "# Question 17 : How can you reverse a string in Python?\n",
    "# Answer : \n",
    "a = \"Hello\"\n",
    "b = a[-1::-1]\n",
    "print(\"Reverse of string\",a,\"is\",b)"
   ]
  },
  {
   "cell_type": "code",
   "execution_count": 43,
   "id": "9d8b6723-bc22-478c-b604-e76047bb8fae",
   "metadata": {},
   "outputs": [
    {
     "name": "stdout",
     "output_type": "stream",
     "text": [
      " My name is Rohan and am learning python.\n"
     ]
    }
   ],
   "source": [
    "# Question 18 : How do you format a string with placeholders for variable values?\n",
    "# Answer : we use format() function for this.\n",
    "s9 =\" My name is {} and am learning {}.\"\n",
    "print(s9.format(\"Rohan\",\"python\"))"
   ]
  },
  {
   "cell_type": "code",
   "execution_count": 44,
   "id": "0b69670c-d309-4bab-9c5c-702ae20b5a02",
   "metadata": {},
   "outputs": [
    {
     "name": "stdout",
     "output_type": "stream",
     "text": [
      " play\n"
     ]
    }
   ],
   "source": [
    "# Question 19 : How do you access a substring of a string using slicing?\n",
    "#Answer : we can access a substring form a string using index slicing.\n",
    "my_str = \"I love to play Pubg\"\n",
    "b = my_str[9:14:1] #want to access \"play\"\n",
    "print(b)"
   ]
  },
  {
   "cell_type": "code",
   "execution_count": 45,
   "id": "5f5a1cbb-3c2b-458a-863d-a850d914b2d3",
   "metadata": {},
   "outputs": [
    {
     "name": "stdout",
     "output_type": "stream",
     "text": [
      "Amit has 2 toffie\n"
     ]
    }
   ],
   "source": [
    "#Question 20 : How can you remove specific characters from a string in Python?\n",
    "#Answer : for this we use replace() function.\n",
    "z = \"Amit has 2 chocolates\"\n",
    "print(z.replace(\"chocolates\",\"toffie\"))"
   ]
  }
 ],
 "metadata": {
  "kernelspec": {
   "display_name": "Python 3 (ipykernel)",
   "language": "python",
   "name": "python3"
  },
  "language_info": {
   "codemirror_mode": {
    "name": "ipython",
    "version": 3
   },
   "file_extension": ".py",
   "mimetype": "text/x-python",
   "name": "python",
   "nbconvert_exporter": "python",
   "pygments_lexer": "ipython3",
   "version": "3.10.8"
  }
 },
 "nbformat": 4,
 "nbformat_minor": 5
}
