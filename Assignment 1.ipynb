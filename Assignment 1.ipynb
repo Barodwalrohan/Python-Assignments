{
 "cells": [
  {
   "cell_type": "code",
   "execution_count": 1,
   "id": "50ab3a1d-3ac0-4586-9925-0b5515d76d06",
   "metadata": {},
   "outputs": [],
   "source": [
    "# 1. In the below elements which of them are values or an expression? eg:- values can be\n",
    "# integer or string and expressions will be mathematical operators.\n",
    "# Ans : * - Expression (multiplication operator)\n",
    "# 'hello' - Value (string)\n",
    "# -87.8 - Value (floating-point number)\n",
    "# - - Expression (subtraction operator)\n",
    "# / - Expression (division operator)\n",
    "# + - Expression (addition operator)\n",
    "# 6 - Value (integer)"
   ]
  },
  {
   "cell_type": "code",
   "execution_count": 2,
   "id": "70ecfed2-2ebc-449f-b322-2047f656fd0a",
   "metadata": {},
   "outputs": [],
   "source": [
    "# 2.What is the difference between string and variable?\n",
    "#  A string is a sequence of character enclosed in quotes(Single,Double,And Triple). It is a dtata type which holds a sequence of characters,suchh as letters, symbols,\n",
    "# numbers and spaces.\n",
    "# A Variable is a storage location which has a name and it holds a value and this can be changed over time , its like a container which holds a data and \n",
    "# this data may be of many types lists, srting, integer , float etc."
   ]
  },
  {
   "cell_type": "code",
   "execution_count": 6,
   "id": "cc6521b4-3213-4e65-9a7e-6bda7e9eb23d",
   "metadata": {},
   "outputs": [],
   "source": [
    "# 3. Describe three different data types.\n",
    "\"\"\"Three types of data types are :\n",
    "1. Integer : these are the numbers or suquence of numbers. They may be positive,negative,whole numbers without decimal.\n",
    "ex : 1,-2,23 etc\n",
    "2. Float : There are the decima point numbers.\n",
    "ex : 1.2 , -0.1 23.2 etc\n",
    "3. String : Its is a sequence of characters like text.\n",
    "ex : \"Rohan\" , \"12ra\" etc \"\"\""
   ]
  },
  {
   "cell_type": "code",
   "execution_count": null,
   "id": "306b830f-5002-4511-9c92-5af58bcbd7d9",
   "metadata": {},
   "outputs": [],
   "source": [
    "# 4.what is an expression is made up of ? and what do all the exprssions do?\n",
    "\"\"\"An expression is a combination of one or more values, variables, operators, and functions that, when evaluated, produce a result.\n",
    "   The purpose of an expression is to compute a value based on the provided components.\n",
    "   examples : c = a+b,where a=5,b=6.\"\"\""
   ]
  },
  {
   "cell_type": "code",
   "execution_count": null,
   "id": "59589f8a-7f9c-4f38-83e4-79507dd7ab7f",
   "metadata": {},
   "outputs": [],
   "source": [
    "# 5.This assignment statements, like spam = 10. What is the difference between an\n",
    "# expression and a statement?\n",
    "\"\"\"An expression is a piece of code that can be evaluated to produce a value. Think of it as something that computes and gives you an answer.\n",
    "   A statement is a complete line of code that performs an action. It does not necessarily produce a value.\"\"\""
   ]
  },
  {
   "cell_type": "code",
   "execution_count": 7,
   "id": "d6735bf3-5760-4828-a5df-17cf31e79239",
   "metadata": {},
   "outputs": [
    {
     "data": {
      "text/plain": [
       "23"
      ]
     },
     "execution_count": 7,
     "metadata": {},
     "output_type": "execute_result"
    }
   ],
   "source": [
    "# 6.6. After running the following code, what does the variable bacon contain?\n",
    "bacon = 22\n",
    "bacon + 1"
   ]
  },
  {
   "cell_type": "code",
   "execution_count": 12,
   "id": "cefeb4f8-58fd-4d3b-97cb-1ebb3f39c5d7",
   "metadata": {},
   "outputs": [
    {
     "name": "stdout",
     "output_type": "stream",
     "text": [
      "spamspamspam\n",
      "spamspamspam\n"
     ]
    }
   ],
   "source": [
    "# 7. What should the values of the following two terms be?\n",
    "print('spam' + 'spamspam')\n",
    "a = 'spam'*3\n",
    "print(a)"
   ]
  },
  {
   "cell_type": "code",
   "execution_count": null,
   "id": "9f24d5e8-0bec-4695-999c-4c06470327b1",
   "metadata": {},
   "outputs": [],
   "source": [
    "# 8. Why is eggs a valid variable name while 100 is invalid?\n",
    "\"\"\" eggs is a valid variable name and 100 is not because it breakes 1st rule of defining a variable as \n",
    "'a variable should be start with a letter and an underscore(_)'\"\"\" "
   ]
  },
  {
   "cell_type": "code",
   "execution_count": null,
   "id": "bdb7ea4e-5b4d-43be-9c5c-04572b61bec0",
   "metadata": {},
   "outputs": [],
   "source": [
    "#9. 9. What three functions can be used to get the integer, floating-point number, or string\n",
    "# version of a value?\n",
    "\"\"\" 1. int(): Converts a value to an integer.\n",
    "2. float(): Converts a value to a floating-point number.\n",
    "3. str(): Converts a value to a string.\"\"\""
   ]
  },
  {
   "cell_type": "code",
   "execution_count": 13,
   "id": "f30d47f0-cefa-497f-8aec-407fad5ae046",
   "metadata": {},
   "outputs": [
    {
     "ename": "TypeError",
     "evalue": "can only concatenate str (not \"int\") to str",
     "output_type": "error",
     "traceback": [
      "\u001b[0;31m---------------------------------------------------------------------------\u001b[0m",
      "\u001b[0;31mTypeError\u001b[0m                                 Traceback (most recent call last)",
      "Cell \u001b[0;32mIn[13], line 2\u001b[0m\n\u001b[1;32m      1\u001b[0m \u001b[38;5;66;03m# 10. 10. Why does this expression cause an error? How can you fix it?\u001b[39;00m\n\u001b[0;32m----> 2\u001b[0m \u001b[38;5;124;43m'\u001b[39;49m\u001b[38;5;124;43mI have eaten\u001b[39;49m\u001b[38;5;124;43m'\u001b[39;49m\u001b[38;5;241;43m+\u001b[39;49m\u001b[38;5;241;43m99\u001b[39;49m\u001b[38;5;241m+\u001b[39m\u001b[38;5;124m'\u001b[39m\u001b[38;5;124mburritos\u001b[39m\u001b[38;5;124m'\u001b[39m\n",
      "\u001b[0;31mTypeError\u001b[0m: can only concatenate str (not \"int\") to str"
     ]
    }
   ],
   "source": [
    "# 10. 10. Why does this expression cause an error? How can you fix it?\n",
    "'I have eaten'+99+'burritos'"
   ]
  },
  {
   "cell_type": "code",
   "execution_count": null,
   "id": "66c56fcf-15a2-4fa3-b24c-b17844981d2e",
   "metadata": {},
   "outputs": [],
   "source": [
    "# this type of error cause by this because we can only concatenate string with string nt with integer. thcs can be in following way :\n",
    "'I have eaten"
   ]
  }
 ],
 "metadata": {
  "kernelspec": {
   "display_name": "Python 3 (ipykernel)",
   "language": "python",
   "name": "python3"
  },
  "language_info": {
   "codemirror_mode": {
    "name": "ipython",
    "version": 3
   },
   "file_extension": ".py",
   "mimetype": "text/x-python",
   "name": "python",
   "nbconvert_exporter": "python",
   "pygments_lexer": "ipython3",
   "version": "3.10.8"
  }
 },
 "nbformat": 4,
 "nbformat_minor": 5
}
