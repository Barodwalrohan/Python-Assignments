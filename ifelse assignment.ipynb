{
 "cells": [
  {
   "cell_type": "code",
   "execution_count": 1,
   "id": "8bc287e4-7db0-47ba-8338-cd184fb045f0",
   "metadata": {},
   "outputs": [],
   "source": [
    "# Q1. Write a program to calculate the electricity bill \n",
    "# using only if statement? (accept number of unit from user) \n",
    "# according to the following criteria:\n",
    "#  Unit Price \n",
    "# First 100 units no charge\n",
    "# Next 100 units Rs 5 per unit\n",
    "# After 200 units Rs 10 per unit\n",
    "# Answer"
   ]
  },
  {
   "cell_type": "code",
   "execution_count": 5,
   "id": "7e02a1ef-8dc2-4b28-a627-f804d364a51b",
   "metadata": {},
   "outputs": [
    {
     "name": "stdin",
     "output_type": "stream",
     "text": [
      "Please Enter Your Electric Bill Units :  350\n"
     ]
    },
    {
     "name": "stdout",
     "output_type": "stream",
     "text": [
      "Your total Bill is :  2000\n"
     ]
    }
   ],
   "source": [
    "unit = int(input(\"Please Enter Your Electric Bill Units : \"))\n",
    "if unit <= 100 :\n",
    "    print(\"You don't have to pay any charge\")\n",
    "if 100 < unit <= 200 :\n",
    "    bill = (unit-100)*5\n",
    "    print(\"You total Bill is : \",bill)\n",
    "if unit > 200 :\n",
    "    bill = (100*5) + (unit-200)*10\n",
    "    print(\"Your total Bill is : \",bill)\n",
    "\n",
    "    \n",
    "    "
   ]
  },
  {
   "cell_type": "code",
   "execution_count": 1,
   "id": "92efe757-907d-45c2-a167-71d98ef6d129",
   "metadata": {},
   "outputs": [],
   "source": [
    "# Q2. Write a program to accept percentage from the user and display \n",
    "# the grade according to the following criteria:\n",
    "#  Marks Grade\n",
    "#  > 90 A\n",
    "#  > 80 and <= 90 B\n",
    "#  >= 60 and <= 80 C\n",
    "#  below 60 D"
   ]
  },
  {
   "cell_type": "code",
   "execution_count": 6,
   "id": "a51039ab-f4ea-4cbe-a503-a08ee28f68d8",
   "metadata": {},
   "outputs": [
    {
     "name": "stdin",
     "output_type": "stream",
     "text": [
      "Enter the percentage :  12\n"
     ]
    },
    {
     "name": "stdout",
     "output_type": "stream",
     "text": [
      "Grade D\n"
     ]
    }
   ],
   "source": [
    "per = int(input(\"Enter the percentage : \"))\n",
    "if 90 < per <= 100 : \n",
    "    print(\"Grade A\")\n",
    "if 90 >= per > 80 :\n",
    "    print(\"Grade B\")\n",
    "if 80 >= per >= 60 :\n",
    "    print(\"Grade C\")\n",
    "if per < 60 :\n",
    "    print(\"Grade D\")\n",
    "elif per > 100 :\n",
    "    print(\"Invalid input\")"
   ]
  },
  {
   "cell_type": "code",
   "execution_count": null,
   "id": "1609f4c5-7f09-43c3-9171-fb189a3bfe58",
   "metadata": {},
   "outputs": [],
   "source": [
    "# Q3. Accept the age of 4 people and display the youngest one?\n",
    "a = int(input(\"Enter age of 1st person : \"))\n",
    "b = int(input(\"Enter age of 2nd person : \"))\n",
    "c = int(input(\"Enter age of 3rd person : \"))\n",
    "d = int(input(\"Enter age of 4th person : \"))\n",
    "if a<b and a<c and a<d :\n",
    "    print(\"1st person is youngest.\",a)\n",
    "elif b<a and b<c and b<d :\n",
    "    print(\"2nd person is youngest.\",b)\n",
    "elif c<a and c<b and c<d :\n",
    "    print(\"3rd person is youngest.\",c)\n",
    "else : \n",
    "    print(\"4th person in youngest.\",d)"
   ]
  },
  {
   "cell_type": "code",
   "execution_count": 2,
   "id": "437dc6f9-e618-4571-bfba-c05a7e397b46",
   "metadata": {},
   "outputs": [
    {
     "name": "stdin",
     "output_type": "stream",
     "text": [
      "Enter your salary :  30000\n",
      "Enter years of service :  5\n"
     ]
    },
    {
     "name": "stdout",
     "output_type": "stream",
     "text": [
      "net bonus amount is :  1500.0  and Total Salary be :  31500.0\n"
     ]
    }
   ],
   "source": [
    "#Q4 Q4. A company decided to give bonus to employee \n",
    "# according to following criteria:\n",
    "#  Time period of Service Bonus\n",
    "#  More than 10 years 10%\n",
    "#  >=6 and <=10 8%\n",
    "#  Less than 6 years 5%\n",
    "# Answer\n",
    "salary = int(input(\"Enter your salary : \"))\n",
    "year = int(input(\"Enter years of service : \"))\n",
    "if year > 10 :\n",
    "    bonus = salary*(10/100)\n",
    "    print(\"net bonus amount is : \",bonus,\" and Total Salary be : \",bonus+salary) \n",
    "elif 6 <= year <= 10 :\n",
    "    bonus = salary*(8/100)\n",
    "    print(\"net bonus amount is : \",bonus,\" and Total Salary be : \",bonus+salary)\n",
    "elif year <= 5 :\n",
    "    bonus = salary*(5/100)\n",
    "    print(\"Net bonus amount is : \",bonus,\" and Total Salary be : \",bonus+salary)\n",
    "else : \n",
    "    print(\"Invalid Input\")\n",
    "    \n",
    "    \n",
    "    "
   ]
  },
  {
   "cell_type": "code",
   "execution_count": 1,
   "id": "940a50ba-784b-455f-a712-abe38032123d",
   "metadata": {},
   "outputs": [
    {
     "name": "stdin",
     "output_type": "stream",
     "text": [
      "Enter the First Number :  40\n",
      "Enter the Second Number :  50\n",
      "Enter the Third Number :  10\n"
     ]
    },
    {
     "name": "stdout",
     "output_type": "stream",
     "text": [
      "40 is second largest number.\n"
     ]
    }
   ],
   "source": [
    "# Q5. Accept three numbers from the user and \n",
    "# display the second largest number?\n",
    "num1 = int(input(\"Enter the First Number : \"))\n",
    "num2 = int(input(\"Enter the Second Number : \"))\n",
    "num3 = int(input(\"Enter the Third Number : \"))\n",
    "if (num1>num2 and num1<num3) or (num1<num2 and num1>num3):\n",
    "    print(num1,\"is second largest number.\")\n",
    "elif (num2>num1 and num2<num3) or (num2<num1 and num2>num3):\n",
    "    print(num2,\"is second largest number.\")\n",
    "else :\n",
    "    print(num3,\"is second largest number.\")"
   ]
  },
  {
   "cell_type": "code",
   "execution_count": 2,
   "id": "b232d3d9-61c3-44b9-a4aa-7dbfc21d4d29",
   "metadata": {},
   "outputs": [
    {
     "name": "stdin",
     "output_type": "stream",
     "text": [
      "Enter the marked price :  12000\n"
     ]
    },
    {
     "name": "stdout",
     "output_type": "stream",
     "text": [
      "9600.0 is the Total amount you have to pay.\n"
     ]
    }
   ],
   "source": [
    "#Q6. Accept the marked price from the user and calculate\n",
    "# the Net amount as (Marked Price – Discount) to pay \n",
    "# according to following criteria:\n",
    "# Marked Price Discount\n",
    "#  >10000 20%\n",
    "#  >7000 and <=10000 15%\n",
    "#  <=7000 10%\n",
    "marked_price = int(input(\"Enter the marked price : \"))\n",
    "if marked_price > 10000 :\n",
    "    net_amount = marked_price - (marked_price*(20/100))\n",
    "    print(net_amount,\"is the Total amount you have to pay.\")\n",
    "elif 7000 < marked_price <= 10000 : \n",
    "    net_amount = marked_price - (marked_price*(15/100))\n",
    "    print(net_amount,\"is the Total amount you have to pay.\")\n",
    "elif marked_price <= 7000 :\n",
    "    net_amount = marked_price - (marked_price*(10/100))\n",
    "    print(net_amount,\"is the Total amount you have to pay.\")\n"
   ]
  },
  {
   "cell_type": "code",
   "execution_count": 5,
   "id": "6db86cd5-bae1-4fd5-9de4-ae70c632dc03",
   "metadata": {},
   "outputs": [
    {
     "name": "stdout",
     "output_type": "stream",
     "text": [
      "Enter all the marks out of 100\n"
     ]
    },
    {
     "name": "stdin",
     "output_type": "stream",
     "text": [
      "Enter the marks of English :  90\n",
      "Enter the marks of Maths :  85\n",
      "Enter the marks of Science :  80\n",
      "Enter the marks of Social studies :  87\n"
     ]
    },
    {
     "name": "stdout",
     "output_type": "stream",
     "text": [
      "You got Science Stream.\n"
     ]
    }
   ],
   "source": [
    "# Q7. Accept the marks of English, Math and Science, \n",
    "# Social Studies Subject and display the stream allotted \n",
    "# according to following:\n",
    "# All Subjects more than 80 marks — Science Stream\n",
    "# English >80 and Math, Science above 50 — Commerce Stream\n",
    "# English > 80 and social studies > 80 — Humanities\n",
    "# Answer \n",
    "print(\"Enter all the marks out of 100\")\n",
    "english = int(input(\"Enter the marks of English : \"))\n",
    "math = int(input(\"Enter the marks of Maths : \"))\n",
    "science = int(input(\"Enter the marks of Science : \"))\n",
    "social_studies = int(input(\"Enter the marks of Social studies : \"))\n",
    "if (english >= 80 and math >= 80) and (science >= 80 and social_studies >= 80):\n",
    "    print(\"You got Science Stream.\")\n",
    "elif (english >= 80) and (math>50 and science>50):\n",
    "    print(\"You got Commerce Stream.\")\n",
    "elif (english >= 80 and social_studies >= 80):\n",
    "    print(\"You got Humanities.\")"
   ]
  },
  {
   "cell_type": "code",
   "execution_count": 7,
   "id": "4b17a5a6-c3fe-4e22-b599-d28659400a74",
   "metadata": {},
   "outputs": [
    {
     "name": "stdin",
     "output_type": "stream",
     "text": [
      "Enter a number :  13\n"
     ]
    },
    {
     "name": "stdout",
     "output_type": "stream",
     "text": [
      "Number is not a multiple of 5.\n"
     ]
    }
   ],
   "source": [
    "# Q8. Write a program to display \"Hello\" if a number entered \n",
    "# by user is a multiple of five, otherwise print \"Bye\"?\n",
    "#Answer\n",
    "num = int(input(\"Enter a number : \"))\n",
    "if num%5 == 0 :\n",
    "    print(\"Hello\")\n",
    "else : \n",
    "    print(\"Number is not a multiple of 5.\")"
   ]
  },
  {
   "cell_type": "code",
   "execution_count": 2,
   "id": "2ee14f41-be59-42ca-8b18-39a1320fb2ce",
   "metadata": {},
   "outputs": [
    {
     "name": "stdin",
     "output_type": "stream",
     "text": [
      "Enter the number. 78\n"
     ]
    },
    {
     "name": "stdout",
     "output_type": "stream",
     "text": [
      "last digit of 78 is not divided by 3\n"
     ]
    }
   ],
   "source": [
    "# Q9. Write a program to check whether the last digit of a number\n",
    "# (entered by user) is divisible by 3 or not?\n",
    "num = int(input(\"Enter the number.\"))\n",
    "last_digit = num%10\n",
    "if last_digit%3==0:\n",
    "    print(\"last digit of \",num,\"is divided by 3\")\n",
    "else : \n",
    "    print(\"last digit of\",num,\"is not divided by 3\")\n"
   ]
  },
  {
   "cell_type": "code",
   "execution_count": null,
   "id": "6b00fe50-b840-499b-94db-e3d834c341e8",
   "metadata": {},
   "outputs": [],
   "source": [
    "# Q10. Write a program to check whether a number entered \n",
    "# is three-digit number or not?\n",
    "num = input(\"Enter a number : \")\n",
    "if len(num)==3:\n",
    "    print(\"Number have three digits.\")\n",
    "    \n",
    "\n"
   ]
  }
 ],
 "metadata": {
  "kernelspec": {
   "display_name": "Python 3 (ipykernel)",
   "language": "python",
   "name": "python3"
  },
  "language_info": {
   "codemirror_mode": {
    "name": "ipython",
    "version": 3
   },
   "file_extension": ".py",
   "mimetype": "text/x-python",
   "name": "python",
   "nbconvert_exporter": "python",
   "pygments_lexer": "ipython3",
   "version": "3.10.8"
  }
 },
 "nbformat": 4,
 "nbformat_minor": 5
}
