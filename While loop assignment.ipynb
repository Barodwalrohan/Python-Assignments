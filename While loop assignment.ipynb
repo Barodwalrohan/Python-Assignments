{
 "cells": [
  {
   "cell_type": "code",
   "execution_count": null,
   "id": "149e6e87-becd-4f8a-95fd-804076ddca42",
   "metadata": {},
   "outputs": [
    {
     "name": "stdin",
     "output_type": "stream",
     "text": [
      "Guess a number between 1 and 100:  23\n"
     ]
    },
    {
     "name": "stdout",
     "output_type": "stream",
     "text": [
      "Too low, try again.\n"
     ]
    },
    {
     "name": "stdin",
     "output_type": "stream",
     "text": [
      "Guess a number between 1 and 100:  7\n"
     ]
    },
    {
     "name": "stdout",
     "output_type": "stream",
     "text": [
      "Too low, try again.\n"
     ]
    },
    {
     "name": "stdin",
     "output_type": "stream",
     "text": [
      "Guess a number between 1 and 100:  90\n"
     ]
    },
    {
     "name": "stdout",
     "output_type": "stream",
     "text": [
      "Too high, try again.\n"
     ]
    },
    {
     "name": "stdin",
     "output_type": "stream",
     "text": [
      "Guess a number between 1 and 100:  54\n"
     ]
    },
    {
     "name": "stdout",
     "output_type": "stream",
     "text": [
      "Too high, try again.\n"
     ]
    }
   ],
   "source": [
    "import random\n",
    "secret_number = random.randint(1, 100)\n",
    "guess = 0\n",
    "while guess != secret_number:\n",
    "  guess = int(input(\"Guess a number between 1 and 100: \"))\n",
    "  if guess < secret_number:\n",
    "    print(\"Too low, try again.\")\n",
    "  elif guess > secret_number:\n",
    "    print(\"Too high, try again.\")\n",
    "print(f\"Congratulations! You guessed the number {secret_number} correctly!\")"
   ]
  },
  {
   "cell_type": "code",
   "execution_count": null,
   "id": "5b4e466b-1f2e-4674-8efc-149b7fa22a52",
   "metadata": {},
   "outputs": [],
   "source": []
  }
 ],
 "metadata": {
  "kernelspec": {
   "display_name": "Python 3 (ipykernel)",
   "language": "python",
   "name": "python3"
  },
  "language_info": {
   "codemirror_mode": {
    "name": "ipython",
    "version": 3
   },
   "file_extension": ".py",
   "mimetype": "text/x-python",
   "name": "python",
   "nbconvert_exporter": "python",
   "pygments_lexer": "ipython3",
   "version": "3.10.8"
  }
 },
 "nbformat": 4,
 "nbformat_minor": 5
}
