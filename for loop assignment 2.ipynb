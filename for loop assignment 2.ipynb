{
 "cells": [
  {
   "cell_type": "code",
   "execution_count": 1,
   "id": "e2a2c64b-5206-498b-8e2b-bd7af1b30c11",
   "metadata": {},
   "outputs": [
    {
     "name": "stdout",
     "output_type": "stream",
     "text": [
      "1\n",
      "2\n",
      "3\n",
      "4\n",
      "5\n",
      "6\n",
      "7\n",
      "8\n",
      "9\n",
      "10\n"
     ]
    }
   ],
   "source": [
    "# Question 1: Write a Python program to print all the numbers from 1 to 10 using a for loop.\n",
    "for i in range(1,11):\n",
    "    print(i)"
   ]
  },
  {
   "cell_type": "code",
   "execution_count": 5,
   "id": "a7887d38-a89e-4997-b3c2-e5c3ab431c76",
   "metadata": {},
   "outputs": [
    {
     "name": "stdout",
     "output_type": "stream",
     "text": [
      "5050 is the total sum for numbers from 1 to 100.\n"
     ]
    }
   ],
   "source": [
    "# Question 2: Write a Python program to find the sum of all numbers from 1 to 100 using a for loop. \n",
    "sum = 0\n",
    "for i in range(1,101):\n",
    "    sum = sum + i\n",
    "print(sum,\"is the total sum for numbers from 1 to 100.\")"
   ]
  },
  {
   "cell_type": "code",
   "execution_count": 11,
   "id": "764bba87-857a-42f5-97b1-3080e41070b7",
   "metadata": {},
   "outputs": [
    {
     "name": "stdin",
     "output_type": "stream",
     "text": [
      "Enter a number :  6\n"
     ]
    },
    {
     "name": "stdout",
     "output_type": "stream",
     "text": [
      "6 X 1 = 6\n",
      "6 X 2 = 12\n",
      "6 X 3 = 18\n",
      "6 X 4 = 24\n",
      "6 X 5 = 30\n",
      "6 X 6 = 36\n",
      "6 X 7 = 42\n",
      "6 X 8 = 48\n",
      "6 X 9 = 54\n",
      "6 X 10 = 60\n"
     ]
    }
   ],
   "source": [
    "#Question 3: Write a Python program to print the multiplication table of a given number using a for loop.\n",
    "num = int(input(\"Enter a number : \"))\n",
    "for i in range(1,11):\n",
    "    mul = num*i\n",
    "    print(num,\"X\",i,\"=\",mul)"
   ]
  },
  {
   "cell_type": "code",
   "execution_count": 23,
   "id": "5bbb110e-eb0f-4768-93f3-28307ead88f8",
   "metadata": {},
   "outputs": [
    {
     "name": "stdout",
     "output_type": "stream",
     "text": [
      "Odd number :  1\n",
      "Even number:  2\n",
      "Odd number :  3\n",
      "Even number:  4\n",
      "Odd number :  5\n",
      "Even number:  6\n",
      "Odd number :  7\n",
      "Even number:  8\n",
      "Odd number :  9\n",
      "Even number:  10\n",
      "There is 5 Even numbers in the list.\n",
      "There is 5 Odd numbers in the lsit.\n"
     ]
    }
   ],
   "source": [
    "# Question 4: Write a Python program to count the number of even and odd numbers from a \n",
    "# series of numbers using a for loop.\n",
    "# Hint: Find even and odd from this list: [1, 2, 3, 4, 5, 6, 7, 8, 9, 10]\n",
    "list = [1, 2, 3, 4, 5, 6, 7, 8, 9, 10]\n",
    "a=len(list)\n",
    "count = 0\n",
    "for i in list:\n",
    "    if i%2 == 0:\n",
    "        count = count + 1\n",
    "        print(\"Even number: \",i)\n",
    "    else :\n",
    "        print(\"Odd number : \",i)\n",
    "print(\"There is\",count,\"Even numbers in the list.\")\n",
    "print(\"There is\",a-count,\"Odd numbers in the lsit.\")"
   ]
  },
  {
   "cell_type": "code",
   "execution_count": 24,
   "id": "e586ab73-b7f7-46bf-8033-f4bf0bc89825",
   "metadata": {},
   "outputs": [
    {
     "name": "stdin",
     "output_type": "stream",
     "text": [
      "Enter a number :  5\n"
     ]
    },
    {
     "name": "stdout",
     "output_type": "stream",
     "text": [
      "Factorial of 5 is 120\n"
     ]
    }
   ],
   "source": [
    "# Question 5: Write a Python program to find the factorial of a number using a for loop.\n",
    "num = int(input(\"Enter a number : \"))\n",
    "fac = 1\n",
    "for i in range(1,num+1):\n",
    "    fac = fac*i\n",
    "print(\"Factorial of\",num,\"is\",fac)"
   ]
  },
  {
   "cell_type": "code",
   "execution_count": 30,
   "id": "9cdf2394-7b0e-46cd-8d81-e5a6d734df68",
   "metadata": {},
   "outputs": [
    {
     "name": "stdin",
     "output_type": "stream",
     "text": [
      "Enter a number :  10\n"
     ]
    },
    {
     "name": "stdout",
     "output_type": "stream",
     "text": [
      "Fibonnaci series upto 10 is : \n",
      "1\n",
      "2\n",
      "3\n",
      "5\n",
      "8\n",
      "13\n",
      "21\n",
      "34\n",
      "55\n",
      "89\n"
     ]
    }
   ],
   "source": [
    "# Question 6: Write a Python program to print the Fibonacci sequence up to a specified number using a for loop.\n",
    "num = int(input(\"Enter a number : \"))\n",
    "a = 0\n",
    "b = 1\n",
    "print(\"Fibonnaci series upto\",num,\"is : \")\n",
    "for i in range(num):\n",
    "    a,b = b,a+b\n",
    "    print(b)"
   ]
  },
  {
   "cell_type": "code",
   "execution_count": 3,
   "id": "e292ded3-a9f7-44be-b9b7-6154a8131408",
   "metadata": {},
   "outputs": [],
   "source": [
    "#Question 7: Write a Python program to check if a given number is prime or not using a for loop.\n",
    "num = int(input(\"Enter a number : \"))\n",
    "for i in range(1,1000):\n",
    "    if num\n"
   ]
  },
  {
   "cell_type": "code",
   "execution_count": 4,
   "id": "d4859846-2598-4929-a254-f888965818e4",
   "metadata": {},
   "outputs": [
    {
     "name": "stdout",
     "output_type": "stream",
     "text": [
      "70\n"
     ]
    }
   ],
   "source": [
    "#Question 8: Write a Python program to find the largest element in a list using a for loop.\n",
    "l = [10,30,40,10,70]\n",
    "largest = l[0]\n",
    "for i in l:\n",
    "    if i > largest:\n",
    "        largest = i\n",
    "print(i)"
   ]
  },
  {
   "cell_type": "code",
   "execution_count": 2,
   "id": "4096c7bb-f96f-48d0-9092-92d448f11ae0",
   "metadata": {},
   "outputs": [
    {
     "name": "stdout",
     "output_type": "stream",
     "text": [
      "!dlrow ,olleH\n"
     ]
    }
   ],
   "source": [
    "#Question 9: Write a Python program to reverse a given string using a for loop.\n",
    "text = \"Hello, world!\"\n",
    "reversed_text = \"\"\n",
    "for i in range(len(text) - 1, -1, -1):\n",
    "  reversed_text += text[i]\n",
    "print(reversed_text)"
   ]
  },
  {
   "cell_type": "code",
   "execution_count": 3,
   "id": "27338d43-8a90-4ea8-a120-7aac17362383",
   "metadata": {},
   "outputs": [
    {
     "name": "stdout",
     "output_type": "stream",
     "text": [
      "Common elements: [1]\n"
     ]
    }
   ],
   "source": [
    "# Question 10: Write a Python program to find the common elements between two lists using a \n",
    "# for loop.\n",
    "list1 = [1,2,3]\n",
    "list2 = [4,5,1] \n",
    "common_elements = []\n",
    "\n",
    "for element in list1:\n",
    "  if element in list2:\n",
    "    common_elements.append(element)\n",
    "print(\"Common elements:\", common_elements)"
   ]
  }
 ],
 "metadata": {
  "kernelspec": {
   "display_name": "Python 3 (ipykernel)",
   "language": "python",
   "name": "python3"
  },
  "language_info": {
   "codemirror_mode": {
    "name": "ipython",
    "version": 3
   },
   "file_extension": ".py",
   "mimetype": "text/x-python",
   "name": "python",
   "nbconvert_exporter": "python",
   "pygments_lexer": "ipython3",
   "version": "3.10.8"
  }
 },
 "nbformat": 4,
 "nbformat_minor": 5
}
